{
 "cells": [
  {
   "cell_type": "code",
   "execution_count": 1,
   "id": "772e01da",
   "metadata": {},
   "outputs": [
    {
     "ename": "ModuleNotFoundError",
     "evalue": "No module named 'nltk'",
     "output_type": "error",
     "traceback": [
      "\u001b[31m---------------------------------------------------------------------------\u001b[39m",
      "\u001b[31mModuleNotFoundError\u001b[39m                       Traceback (most recent call last)",
      "\u001b[36mCell\u001b[39m\u001b[36m \u001b[39m\u001b[32mIn[1]\u001b[39m\u001b[32m, line 1\u001b[39m\n\u001b[32m----> \u001b[39m\u001b[32m1\u001b[39m \u001b[38;5;28;01mimport\u001b[39;00m\u001b[38;5;250m \u001b[39m\u001b[34;01mnltk\u001b[39;00m\n\u001b[32m      2\u001b[39m nltk.download(\u001b[33m'\u001b[39m\u001b[33mvader_lexicon\u001b[39m\u001b[33m'\u001b[39m)\n\u001b[32m      3\u001b[39m \u001b[38;5;28;01mfrom\u001b[39;00m\u001b[38;5;250m \u001b[39m\u001b[34;01mnltk\u001b[39;00m\u001b[34;01m.\u001b[39;00m\u001b[34;01msentiment\u001b[39;00m\u001b[34;01m.\u001b[39;00m\u001b[34;01mvader\u001b[39;00m\u001b[38;5;250m \u001b[39m\u001b[38;5;28;01mimport\u001b[39;00m SentimentIntensityAnalyzer\n",
      "\u001b[31mModuleNotFoundError\u001b[39m: No module named 'nltk'"
     ]
    }
   ],
   "source": [
    "import nltk\n",
    "nltk.download('vader_lexicon')\n",
    "from nltk.sentiment.vader import SentimentIntensityAnalyzer\n",
    "sia = SentimentIntensityAnalyzer()\n",
    "import pandas as pd"
   ]
  },
  {
   "cell_type": "code",
   "execution_count": null,
   "id": "1172cb32",
   "metadata": {},
   "outputs": [],
   "source": [
    "data= pd.read_csv('amazon_reviews.tsv', sep=\"\\t\") ## Tells that it is a tab separated file"
   ]
  },
  {
   "cell_type": "code",
   "execution_count": null,
   "id": "61ba5299",
   "metadata": {},
   "outputs": [],
   "source": [
    "data.head()"
   ]
  },
  {
   "cell_type": "code",
   "execution_count": null,
   "id": "415be66c",
   "metadata": {},
   "outputs": [],
   "source": [
    "len(data)"
   ]
  },
  {
   "cell_type": "code",
   "execution_count": 2,
   "id": "43207f22",
   "metadata": {},
   "outputs": [
    {
     "ename": "NameError",
     "evalue": "name 'data' is not defined",
     "output_type": "error",
     "traceback": [
      "\u001b[31m---------------------------------------------------------------------------\u001b[39m",
      "\u001b[31mNameError\u001b[39m                                 Traceback (most recent call last)",
      "\u001b[36mCell\u001b[39m\u001b[36m \u001b[39m\u001b[32mIn[2]\u001b[39m\u001b[32m, line 1\u001b[39m\n\u001b[32m----> \u001b[39m\u001b[32m1\u001b[39m \u001b[43mdata\u001b[49m[\u001b[33m'\u001b[39m\u001b[33mlabel\u001b[39m\u001b[33m'\u001b[39m].unique()\n",
      "\u001b[31mNameError\u001b[39m: name 'data' is not defined"
     ]
    }
   ],
   "source": [
    "data['label'].unique()"
   ]
  },
  {
   "cell_type": "code",
   "execution_count": null,
   "id": "f9bc4088",
   "metadata": {},
   "outputs": [],
   "source": [
    "data['label'].value_counts()"
   ]
  },
  {
   "cell_type": "code",
   "execution_count": null,
   "id": "2045a80d",
   "metadata": {},
   "outputs": [],
   "source": [
    "## Calculating the polarity score of each review\n",
    "polarity_score=[]\n",
    "for i in data['review']:\n",
    "  polarity_score.append(sia.polarity_scores(i))\n",
    "data['Polarity Score']= polarity_score\n",
    "data"
   ]
  },
  {
   "cell_type": "code",
   "execution_count": null,
   "id": "b0dd8bce",
   "metadata": {},
   "outputs": [],
   "source": [
    "print(data['Polarity Score'])"
   ]
  },
  {
   "cell_type": "code",
   "execution_count": null,
   "id": "4dd28d03",
   "metadata": {},
   "outputs": [],
   "source": [
    "## Predicting the sentiment (Basically it's a classification problem as we need to decide on neg/pos/neu)\n",
    "Sentiment=[]\n",
    "for i in data['Polarity Score']:\n",
    "  c= i['compound']\n",
    "  if c>0:\n",
    "    Sentiment.append(\"pos\")\n",
    "  else:\n",
    "    Sentiment.append(\"neg\")\n",
    "data['Sentiment']= Sentiment\n",
    "data.head(20)"
   ]
  },
  {
   "cell_type": "code",
   "execution_count": null,
   "id": "6aa05ac3",
   "metadata": {},
   "outputs": [],
   "source": [
    "## Calculating the confusion matrix\n",
    "from sklearn.metrics import confusion_matrix\n",
    "cm= confusion_matrix(data['label'],data['Sentiment'])  ##(actual,predicted)\n",
    "cm"
   ]
  },
  {
   "cell_type": "code",
   "execution_count": null,
   "id": "05106497",
   "metadata": {},
   "outputs": [],
   "source": [
    "## Calculating the accuracy\n",
    "from sklearn.metrics import accuracy_score\n",
    "a= accuracy_score(data['label'],data['Sentiment'])*100\n",
    "print(\"The accuracy is: \"+ str(a)+\"%\")"
   ]
  },
  {
   "cell_type": "code",
   "execution_count": null,
   "id": "67c81b4c",
   "metadata": {},
   "outputs": [],
   "source": [
    "## In order to improve the accuracy we need to create our own library with adding words daily!!"
   ]
  },
  {
   "cell_type": "code",
   "execution_count": null,
   "id": "b12dc56c",
   "metadata": {},
   "outputs": [],
   "source": [
    "## You have twitter data do the same on it"
   ]
  },
  {
   "cell_type": "code",
   "execution_count": null,
   "id": "d0ef797d",
   "metadata": {},
   "outputs": [],
   "source": [
    "## Image processing will be done on offline python"
   ]
  }
 ],
 "metadata": {
  "kernelspec": {
   "display_name": "Python 3",
   "language": "python",
   "name": "python3"
  },
  "language_info": {
   "codemirror_mode": {
    "name": "ipython",
    "version": 3
   },
   "file_extension": ".py",
   "mimetype": "text/x-python",
   "name": "python",
   "nbconvert_exporter": "python",
   "pygments_lexer": "ipython3",
   "version": "3.12.8"
  }
 },
 "nbformat": 4,
 "nbformat_minor": 5
}
