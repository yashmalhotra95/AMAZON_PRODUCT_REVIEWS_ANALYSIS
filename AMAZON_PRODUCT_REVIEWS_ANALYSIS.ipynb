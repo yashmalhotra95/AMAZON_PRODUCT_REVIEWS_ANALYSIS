{
  "nbformat": 4,
  "nbformat_minor": 0,
  "metadata": {
    "colab": {
      "provenance": []
    },
    "kernelspec": {
      "name": "python3",
      "display_name": "Python 3"
    }
  },
  "cells": [
    {
      "cell_type": "code",
      "metadata": {
        "id": "x6P7V8qzXJsv"
      },
      "source": [
        "from bs4 import BeautifulSoup\n",
        "import requests"
      ],
      "execution_count": null,
      "outputs": []
    },
    {
      "cell_type": "code",
      "metadata": {
        "id": "eyUcqI8aXyaJ"
      },
      "source": [
        "url = 'https://www.amazon.in/Test-Exclusive-544/product-reviews/B077PWK5BY/ref=cm_cr_dp_d_show_all_btm?ie=UTF8&reviewerType=all_reviews'"
      ],
      "execution_count": null,
      "outputs": []
    },
    {
      "cell_type": "code",
      "metadata": {
        "id": "6XUfvyhpX_nc",
        "colab": {
          "base_uri": "https://localhost:8080/",
          "height": 34
        },
        "outputId": "e28a7133-a184-4033-bf2e-0a9a1c1b0895"
      },
      "source": [
        "page= requests.get(url)\n",
        "page"
      ],
      "execution_count": null,
      "outputs": [
        {
          "output_type": "execute_result",
          "data": {
            "text/plain": [
              "<Response [200]>"
            ]
          },
          "metadata": {
            "tags": []
          },
          "execution_count": 4
        }
      ]
    },
    {
      "cell_type": "code",
      "metadata": {
        "id": "iV5BYRpeYJ2W"
      },
      "source": [
        "soup = BeautifulSoup(page.content,\"html.parser\")"
      ],
      "execution_count": null,
      "outputs": []
    },
    {
      "cell_type": "code",
      "metadata": {
        "id": "EE8VQhBYYV8n",
        "colab": {
          "base_uri": "https://localhost:8080/",
          "height": 221
        },
        "outputId": "3d081c6a-fd96-4c18-9952-e52d9c18bc9e"
      },
      "source": [
        "names= soup.select('span.a-profile-name')\n",
        "names\n",
        "## Here the first 2 names will be redundant as they will be part of most positive and critical review---\n",
        "## --- so we use slicing to get rid of the first 2 which are redundant"
      ],
      "execution_count": null,
      "outputs": [
        {
          "output_type": "execute_result",
          "data": {
            "text/plain": [
              "[<span class=\"a-profile-name\">MEENAKSHI Goswami</span>,\n",
              " <span class=\"a-profile-name\">Kishore Kumar</span>,\n",
              " <span class=\"a-profile-name\">Kishore Kumar</span>,\n",
              " <span class=\"a-profile-name\">NA</span>,\n",
              " <span class=\"a-profile-name\">tarun Singh</span>,\n",
              " <span class=\"a-profile-name\">Arindam Singh</span>,\n",
              " <span class=\"a-profile-name\">Aman Singh</span>,\n",
              " <span class=\"a-profile-name\">MEENAKSHI Goswami</span>,\n",
              " <span class=\"a-profile-name\">Dhanush KT</span>,\n",
              " <span class=\"a-profile-name\">Divakar</span>,\n",
              " <span class=\"a-profile-name\">Robin Sahni</span>,\n",
              " <span class=\"a-profile-name\">Panindra koripalli</span>]"
            ]
          },
          "metadata": {
            "tags": []
          },
          "execution_count": 6
        }
      ]
    },
    {
      "cell_type": "code",
      "metadata": {
        "id": "gbKMOqFjaVfN",
        "colab": {
          "base_uri": "https://localhost:8080/",
          "height": 34
        },
        "outputId": "66a30d91-6a63-459d-936f-ae8d444fc335"
      },
      "source": [
        "## Returns the names from the first page\n",
        "names= soup.select('span.a-profile-name')[2:]\n",
        "names"
      ],
      "execution_count": null,
      "outputs": [
        {
          "output_type": "execute_result",
          "data": {
            "text/plain": [
              "10"
            ]
          },
          "metadata": {
            "tags": []
          },
          "execution_count": 26
        }
      ]
    },
    {
      "cell_type": "code",
      "metadata": {
        "id": "9-Rnlq_BaYej",
        "colab": {
          "base_uri": "https://localhost:8080/",
          "height": 187
        },
        "outputId": "d4b664d0-c212-4426-be77-bed1c77145bd"
      },
      "source": [
        "title= soup.select('a.review-title span')\n",
        "title"
      ],
      "execution_count": null,
      "outputs": [
        {
          "output_type": "execute_result",
          "data": {
            "text/plain": [
              "[<span>Be cautious</span>,\n",
              " <span>Display Issue</span>,\n",
              " <span>Phone heats a lot</span>,\n",
              " <span>A great feature rich phone but has Display issues.</span>,\n",
              " <span>Dont buy it.Display is not upto the mark</span>,\n",
              " <span>Superb</span>,\n",
              " <span>Having display issues</span>,\n",
              " <span>First Review of 256GB Variant India. No display issues. Works fine.</span>,\n",
              " <span>Screen issues,Heating issues,Bad front camera</span>,\n",
              " <span>Major know issue</span>]"
            ]
          },
          "metadata": {
            "tags": []
          },
          "execution_count": 15
        }
      ]
    },
    {
      "cell_type": "code",
      "metadata": {
        "id": "Rf3hZA19cQUz",
        "colab": {
          "base_uri": "https://localhost:8080/",
          "height": 187
        },
        "outputId": "bf2b1f05-49a6-4501-d101-e7dfdc18331e"
      },
      "source": [
        "date= soup.select('span.review-date')[2:]\n",
        "date"
      ],
      "execution_count": null,
      "outputs": [
        {
          "output_type": "execute_result",
          "data": {
            "text/plain": [
              "[<span class=\"a-size-base a-color-secondary review-date\" data-hook=\"review-date\">Reviewed in India on 19 June 2020</span>,\n",
              " <span class=\"a-size-base a-color-secondary review-date\" data-hook=\"review-date\">Reviewed in India on 18 June 2020</span>,\n",
              " <span class=\"a-size-base a-color-secondary review-date\" data-hook=\"review-date\">Reviewed in India on 19 June 2020</span>,\n",
              " <span class=\"a-size-base a-color-secondary review-date\" data-hook=\"review-date\">Reviewed in India on 1 July 2020</span>,\n",
              " <span class=\"a-size-base a-color-secondary review-date\" data-hook=\"review-date\">Reviewed in India on 2 July 2020</span>,\n",
              " <span class=\"a-size-base a-color-secondary review-date\" data-hook=\"review-date\">Reviewed in India on 16 June 2020</span>,\n",
              " <span class=\"a-size-base a-color-secondary review-date\" data-hook=\"review-date\">Reviewed in India on 29 June 2020</span>,\n",
              " <span class=\"a-size-base a-color-secondary review-date\" data-hook=\"review-date\">Reviewed in India on 17 June 2020</span>,\n",
              " <span class=\"a-size-base a-color-secondary review-date\" data-hook=\"review-date\">Reviewed in India on 26 June 2020</span>,\n",
              " <span class=\"a-size-base a-color-secondary review-date\" data-hook=\"review-date\">Reviewed in India on 27 June 2020</span>]"
            ]
          },
          "metadata": {
            "tags": []
          },
          "execution_count": 17
        }
      ]
    },
    {
      "cell_type": "code",
      "metadata": {
        "id": "dZIlszUbccEz",
        "colab": {
          "base_uri": "https://localhost:8080/",
          "height": 187
        },
        "outputId": "8d4a5ae1-f8ff-415a-bdac-97a1d909d38f"
      },
      "source": [
        "## As apart from the 10 ratings we also have 3 other ratings above so we remove them\n",
        "rating= soup.select('span.a-icon-alt')[3:]\n",
        "rating"
      ],
      "execution_count": null,
      "outputs": [
        {
          "output_type": "execute_result",
          "data": {
            "text/plain": [
              "[<span class=\"a-icon-alt\">2.0 out of 5 stars</span>,\n",
              " <span class=\"a-icon-alt\">1.0 out of 5 stars</span>,\n",
              " <span class=\"a-icon-alt\">3.0 out of 5 stars</span>,\n",
              " <span class=\"a-icon-alt\">3.0 out of 5 stars</span>,\n",
              " <span class=\"a-icon-alt\">1.0 out of 5 stars</span>,\n",
              " <span class=\"a-icon-alt\">5.0 out of 5 stars</span>,\n",
              " <span class=\"a-icon-alt\">1.0 out of 5 stars</span>,\n",
              " <span class=\"a-icon-alt\">3.0 out of 5 stars</span>,\n",
              " <span class=\"a-icon-alt\">1.0 out of 5 stars</span>,\n",
              " <span class=\"a-icon-alt\">1.0 out of 5 stars</span>]"
            ]
          },
          "metadata": {
            "tags": []
          },
          "execution_count": 19
        }
      ]
    },
    {
      "cell_type": "code",
      "metadata": {
        "id": "XtKo7x_qcsLm",
        "colab": {
          "base_uri": "https://localhost:8080/",
          "height": 394
        },
        "outputId": "eda25372-c521-477a-e92e-eb1228b6fbf1"
      },
      "source": [
        "content= soup.select('span.review-text-content span')\n",
        "content"
      ],
      "execution_count": null,
      "outputs": [
        {
          "output_type": "execute_result",
          "data": {
            "text/plain": [
              "[<span>\n",
              "   The phone has a dark band on the status bar. As clearly seen in the photo. OnePlus 8 pro has some serious issues with its display. To reproduce the issue, you have to sit in a dark room with the lowest brightness possible in your device.\n",
              " </span>, <span>\n",
              "   I am facing display issues in low brightness\n",
              " </span>, <span>\n",
              "   i am using this phone just a day..but there are  two main problem i notice so far...one is in video black depth is more and the second one is adapive light censor is worst part.in low light it's horrible.it can't match half of the samsung note,or s mobile.battery back is good far better than samsung and processor is absolutely powerful.playing pubg isn't that great experience it's lag many time.pls oneplus fixed lowlight display problem..\n",
              " </span>, <span>\n",
              "   I bought this 12GB+256GB Glacial Green variant and physically it looks stunning. The design is top-notch. The punch hole camera does not spoil the overall screen experience as some people have said. Very sleek and premium looking design-wise. The battery life does not last really long when you use it on 120 Hz QHD+, although it's quite manageable and can get through the day with mid usage easily. Coming to gaming, I'm a hardcore gamer and can game continuously for 3-4 hours, and let me tell you this phone can run through it with ease. I've played PUBG quite a lot on this device and have not noticed any major frame drops at HDR graphics and Extreme frame rates, let alone Smooth graphics. It runs PUBG really smoothly. Stable frames at all times. I would suggest it for competitive PUBG and other games too. The 120 Hz Amoled screen is breathtaking. Buttery smooth at all times. Certainly the best display on a phone. I have found the cameras to be decent enough. Nothing too fancy, nor a let down. Videos are very stable though. This has come close to the iPhone cameras as a video shooter. This might even offer better stabilization than the iPhone videos. The colour filter camera is disabled out of the box. Speakers are fairly loud and clear. A very good surround experience. You'll find a Dolby sample video in your gallery. Play it on the phone speakers and see for yourself.<br/><br/>Here comes the bad part about it. The phone that I had received, I used it for about 2 weeks and discovered it had this image retention issue. The afterimage of anything displayed for a period of time on the phone for a long time is displayed on the screen even after the original image is pulled off. This could be seen while watching Youtube videos in non-fill screen mode or videos that have any kind of frame visible or even games like PUBG where static elements of game like the map's frame or your controls would be visible on certain background colours even after you have turned the game off. I had reset the phone and not seen any kind of improvement. I checked on the community and many people have experienced this issue as well. The hole-punch band issue is there but it was very vague and DC dimming could fix it. Also, my screen had no green tints. The image retention issue could easily turn into permanent screen burns really soon. So, I have returned my product for now and plan to buy the same phone again.<br/><br/>Hope you people find this review useful. Not a very organized review but that's what I have experienced.\n",
              " </span>, <span>\n",
              "   I bought the phone during the first sale on 15June.I was very excited for the phone due to all the hype on the social media and what not.It was amazing at first,blazing fast speed,120hz refresh rate and the display was gorgeous to look at,but after around 9th day,my display was having issues and after 11 days,half the screen would show a weird purple tint while watching youtube in dark mode and using chrome and apps with similar black color.My whole experience was ruined,so much that i sold the phone at ₹3000 loss.I'm 99% sure,no matter where you buy the phone,it would have some display issues in one way or another which is very disappointing.I urge you to stay away from this phone as the screen is not calibrated like it should've been.Totally not worth your hard earned money.\n",
              " </span>, <span>\n",
              "   Superb phone but little long and curves should be more.<br/>Camera and speakers quality are very good<br/>Sleek phone and color are very beautiful.<br/>Sound quality is excellent and crisp sound like u listening in head phone. u can recognize each sound in background and in surrounding without using any headphone.<br/>Picture quality is also excellent clear hd quality, colors are very bright.<br/>Camera is 48 mega and and after enlarging the image pixel not blurred.<br/>Camera quality is also awesome,slow motion,ultra wide,manvi and selfie all great.\n",
              " </span>, <span>\n",
              "   When i was testing my device for any display issues i kind of felt white colors are a bit too warm which looked like it had some tint effect to it in my unit, so i went into display settings and changed the calibration to advanced and selected AMOLED wide gamut with a cool color tone. it seemed to be good and then after a while, i started noticing image retention issue which was visible in light gray background. so i tested it keeping full brightness and opening chrome incognito mode and i could see home screen icons visible there (as shown in picture).<br/>i called in for replacement but unfortunately, i can only get a refund due to low stock of op8pro<br/>disappointed a lot in the quality of oneplus devices for which we pay 60k.\n",
              " </span>, <span>\n",
              "   There are issues with the display. The update didn't fix it.<br/><br/>You cannot turn down the brightness very low.<br/><br/>Slight heating when downloading 20+ things together.....Yes it's a good phone.<br/><br/>Overall premium build quality and high speed.<br/><br/>I have used the iPhone and s20 in past. I prefer this. If you are thinking to buy. Go ahead.\n",
              " </span>, <span>\n",
              "   My oneplus 8 pro has this screen uniformity issues in low brightness.You can see red tint in lower part of screen in first 2 images and crushes in colour in third image that is even at normal brightness.There are lot of other issues. Phone always stay warm unless you sit in AC room.It heats a lot even during normal usage.During charging its heat a lot .Front camera of this phone is Just pathetic.In whatsapp video call is worse. Slight background light fades away all the details.Even with default camera app,the front camera is bad. Back camera is decent.First time i am disappointed with OnePlus.I think reviews are just hype.\n",
              " </span>, <span>\n",
              "   Mobile display received defective, display good on features only but the greenish blurry background while night time confirms definitely the diffective display supplied by increasing the brightness to minimum.i previously used OnePlus 7pro and never seen this issues.if the minimum brightness continues as same as now eyes will go blind night time.<br/><br/>My concern and suggestion for you to go for other models if you loves this mobile display.<br/>Don't waste money for this defective product because OnePlus company also knows this issues.\n",
              " </span>]"
            ]
          },
          "metadata": {
            "tags": []
          },
          "execution_count": 21
        }
      ]
    },
    {
      "cell_type": "code",
      "metadata": {
        "id": "X11lamK_dj7q"
      },
      "source": [
        "## Now that we have all the data, we just have to remove the tags and put it in a file and voila!\n"
      ],
      "execution_count": null,
      "outputs": []
    },
    {
      "cell_type": "code",
      "metadata": {
        "id": "URnlptFNel3B"
      },
      "source": [
        "## Fetching the text from names\n",
        "cust_name=[]\n",
        "cust_rating=[]\n",
        "rev_title=[]\n",
        "rev_date=[]\n",
        "rev_body=[]\n",
        "for i in range(10):\n",
        "  cust_name.append(names[i].get_text())\n",
        "  cust_rating.append(rating[i].get_text())\n",
        "  rev_title.append(title[i].get_text())\n",
        "  rev_date.append(date[i].get_text())\n",
        "  rev_body.append(content[i].get_text().replace('\\n',\"\"))"
      ],
      "execution_count": null,
      "outputs": []
    },
    {
      "cell_type": "code",
      "metadata": {
        "id": "NpzK86gcezvd",
        "colab": {
          "base_uri": "https://localhost:8080/",
          "height": 187
        },
        "outputId": "dbc53f4d-3eb0-429e-b226-4cd1a16842ae"
      },
      "source": [
        "cust_name"
      ],
      "execution_count": null,
      "outputs": [
        {
          "output_type": "execute_result",
          "data": {
            "text/plain": [
              "['Kishore Kumar',\n",
              " 'NA',\n",
              " 'tarun Singh',\n",
              " 'Arindam Singh',\n",
              " 'Aman Singh',\n",
              " 'MEENAKSHI Goswami',\n",
              " 'Dhanush KT',\n",
              " 'Divakar',\n",
              " 'Robin Sahni',\n",
              " 'Panindra koripalli']"
            ]
          },
          "metadata": {
            "tags": []
          },
          "execution_count": 28
        }
      ]
    },
    {
      "cell_type": "code",
      "metadata": {
        "id": "SnrTSEa4gVm9",
        "colab": {
          "base_uri": "https://localhost:8080/",
          "height": 207
        },
        "outputId": "8f388e53-5846-42e0-c0c4-04a4e764ec93"
      },
      "source": [
        "rev_body"
      ],
      "execution_count": null,
      "outputs": [
        {
          "output_type": "execute_result",
          "data": {
            "text/plain": [
              "['  The phone has a dark band on the status bar. As clearly seen in the photo. OnePlus 8 pro has some serious issues with its display. To reproduce the issue, you have to sit in a dark room with the lowest brightness possible in your device.',\n",
              " '  I am facing display issues in low brightness',\n",
              " \"  i am using this phone just a day..but there are  two main problem i notice so far...one is in video black depth is more and the second one is adapive light censor is worst part.in low light it's horrible.it can't match half of the samsung note,or s mobile.battery back is good far better than samsung and processor is absolutely powerful.playing pubg isn't that great experience it's lag many time.pls oneplus fixed lowlight display problem..\",\n",
              " \"  I bought this 12GB+256GB Glacial Green variant and physically it looks stunning. The design is top-notch. The punch hole camera does not spoil the overall screen experience as some people have said. Very sleek and premium looking design-wise. The battery life does not last really long when you use it on 120 Hz QHD+, although it's quite manageable and can get through the day with mid usage easily. Coming to gaming, I'm a hardcore gamer and can game continuously for 3-4 hours, and let me tell you this phone can run through it with ease. I've played PUBG quite a lot on this device and have not noticed any major frame drops at HDR graphics and Extreme frame rates, let alone Smooth graphics. It runs PUBG really smoothly. Stable frames at all times. I would suggest it for competitive PUBG and other games too. The 120 Hz Amoled screen is breathtaking. Buttery smooth at all times. Certainly the best display on a phone. I have found the cameras to be decent enough. Nothing too fancy, nor a let down. Videos are very stable though. This has come close to the iPhone cameras as a video shooter. This might even offer better stabilization than the iPhone videos. The colour filter camera is disabled out of the box. Speakers are fairly loud and clear. A very good surround experience. You'll find a Dolby sample video in your gallery. Play it on the phone speakers and see for yourself.Here comes the bad part about it. The phone that I had received, I used it for about 2 weeks and discovered it had this image retention issue. The afterimage of anything displayed for a period of time on the phone for a long time is displayed on the screen even after the original image is pulled off. This could be seen while watching Youtube videos in non-fill screen mode or videos that have any kind of frame visible or even games like PUBG where static elements of game like the map's frame or your controls would be visible on certain background colours even after you have turned the game off. I had reset the phone and not seen any kind of improvement. I checked on the community and many people have experienced this issue as well. The hole-punch band issue is there but it was very vague and DC dimming could fix it. Also, my screen had no green tints. The image retention issue could easily turn into permanent screen burns really soon. So, I have returned my product for now and plan to buy the same phone again.Hope you people find this review useful. Not a very organized review but that's what I have experienced.\",\n",
              " \"  I bought the phone during the first sale on 15June.I was very excited for the phone due to all the hype on the social media and what not.It was amazing at first,blazing fast speed,120hz refresh rate and the display was gorgeous to look at,but after around 9th day,my display was having issues and after 11 days,half the screen would show a weird purple tint while watching youtube in dark mode and using chrome and apps with similar black color.My whole experience was ruined,so much that i sold the phone at ₹3000 loss.I'm 99% sure,no matter where you buy the phone,it would have some display issues in one way or another which is very disappointing.I urge you to stay away from this phone as the screen is not calibrated like it should've been.Totally not worth your hard earned money.\",\n",
              " '  Superb phone but little long and curves should be more.Camera and speakers quality are very goodSleek phone and color are very beautiful.Sound quality is excellent and crisp sound like u listening in head phone. u can recognize each sound in background and in surrounding without using any headphone.Picture quality is also excellent clear hd quality, colors are very bright.Camera is 48 mega and and after enlarging the image pixel not blurred.Camera quality is also awesome,slow motion,ultra wide,manvi and selfie all great.',\n",
              " '  When i was testing my device for any display issues i kind of felt white colors are a bit too warm which looked like it had some tint effect to it in my unit, so i went into display settings and changed the calibration to advanced and selected AMOLED wide gamut with a cool color tone. it seemed to be good and then after a while, i started noticing image retention issue which was visible in light gray background. so i tested it keeping full brightness and opening chrome incognito mode and i could see home screen icons visible there (as shown in picture).i called in for replacement but unfortunately, i can only get a refund due to low stock of op8prodisappointed a lot in the quality of oneplus devices for which we pay 60k.',\n",
              " \"  There are issues with the display. The update didn't fix it.You cannot turn down the brightness very low.Slight heating when downloading 20+ things together.....Yes it's a good phone.Overall premium build quality and high speed.I have used the iPhone and s20 in past. I prefer this. If you are thinking to buy. Go ahead.\",\n",
              " '  My oneplus 8 pro has this screen uniformity issues in low brightness.You can see red tint in lower part of screen in first 2 images and crushes in colour in third image that is even at normal brightness.There are lot of other issues. Phone always stay warm unless you sit in AC room.It heats a lot even during normal usage.During charging its heat a lot .Front camera of this phone is Just pathetic.In whatsapp video call is worse. Slight background light fades away all the details.Even with default camera app,the front camera is bad. Back camera is decent.First time i am disappointed with OnePlus.I think reviews are just hype.',\n",
              " \"  Mobile display received defective, display good on features only but the greenish blurry background while night time confirms definitely the diffective display supplied by increasing the brightness to minimum.i previously used OnePlus 7pro and never seen this issues.if the minimum brightness continues as same as now eyes will go blind night time.My concern and suggestion for you to go for other models if you loves this mobile display.Don't waste money for this defective product because OnePlus company also knows this issues.\"]"
            ]
          },
          "metadata": {
            "tags": []
          },
          "execution_count": 32
        }
      ]
    },
    {
      "cell_type": "code",
      "metadata": {
        "id": "epHmR36Pf_iX",
        "colab": {
          "base_uri": "https://localhost:8080/",
          "height": 359
        },
        "outputId": "c3313292-9a69-4d6d-b6d4-fefeb22a4ed4"
      },
      "source": [
        "## Putting the data in dataframe\n",
        "import pandas as pd\n",
        "df= pd.DataFrame()\n",
        "df['Customer Name']= cust_name\n",
        "df['Title']= rev_title\n",
        "df['Date']= rev_date\n",
        "df['Rating']= cust_rating\n",
        "df['Review']= rev_body\n",
        "df"
      ],
      "execution_count": null,
      "outputs": [
        {
          "output_type": "execute_result",
          "data": {
            "text/html": [
              "<div>\n",
              "<style scoped>\n",
              "    .dataframe tbody tr th:only-of-type {\n",
              "        vertical-align: middle;\n",
              "    }\n",
              "\n",
              "    .dataframe tbody tr th {\n",
              "        vertical-align: top;\n",
              "    }\n",
              "\n",
              "    .dataframe thead th {\n",
              "        text-align: right;\n",
              "    }\n",
              "</style>\n",
              "<table border=\"1\" class=\"dataframe\">\n",
              "  <thead>\n",
              "    <tr style=\"text-align: right;\">\n",
              "      <th></th>\n",
              "      <th>Customer Name</th>\n",
              "      <th>Title</th>\n",
              "      <th>Date</th>\n",
              "      <th>Rating</th>\n",
              "      <th>Review</th>\n",
              "    </tr>\n",
              "  </thead>\n",
              "  <tbody>\n",
              "    <tr>\n",
              "      <th>0</th>\n",
              "      <td>Kishore Kumar</td>\n",
              "      <td>Be cautious</td>\n",
              "      <td>Reviewed in India on 19 June 2020</td>\n",
              "      <td>2.0 out of 5 stars</td>\n",
              "      <td>The phone has a dark band on the status bar....</td>\n",
              "    </tr>\n",
              "    <tr>\n",
              "      <th>1</th>\n",
              "      <td>NA</td>\n",
              "      <td>Display Issue</td>\n",
              "      <td>Reviewed in India on 18 June 2020</td>\n",
              "      <td>1.0 out of 5 stars</td>\n",
              "      <td>I am facing display issues in low brightness</td>\n",
              "    </tr>\n",
              "    <tr>\n",
              "      <th>2</th>\n",
              "      <td>tarun Singh</td>\n",
              "      <td>Phone heats a lot</td>\n",
              "      <td>Reviewed in India on 19 June 2020</td>\n",
              "      <td>3.0 out of 5 stars</td>\n",
              "      <td>i am using this phone just a day..but there ...</td>\n",
              "    </tr>\n",
              "    <tr>\n",
              "      <th>3</th>\n",
              "      <td>Arindam Singh</td>\n",
              "      <td>A great feature rich phone but has Display iss...</td>\n",
              "      <td>Reviewed in India on 1 July 2020</td>\n",
              "      <td>3.0 out of 5 stars</td>\n",
              "      <td>I bought this 12GB+256GB Glacial Green varia...</td>\n",
              "    </tr>\n",
              "    <tr>\n",
              "      <th>4</th>\n",
              "      <td>Aman Singh</td>\n",
              "      <td>Dont buy it.Display is not upto the mark</td>\n",
              "      <td>Reviewed in India on 2 July 2020</td>\n",
              "      <td>1.0 out of 5 stars</td>\n",
              "      <td>I bought the phone during the first sale on ...</td>\n",
              "    </tr>\n",
              "    <tr>\n",
              "      <th>5</th>\n",
              "      <td>MEENAKSHI Goswami</td>\n",
              "      <td>Superb</td>\n",
              "      <td>Reviewed in India on 16 June 2020</td>\n",
              "      <td>5.0 out of 5 stars</td>\n",
              "      <td>Superb phone but little long and curves shou...</td>\n",
              "    </tr>\n",
              "    <tr>\n",
              "      <th>6</th>\n",
              "      <td>Dhanush KT</td>\n",
              "      <td>Having display issues</td>\n",
              "      <td>Reviewed in India on 29 June 2020</td>\n",
              "      <td>1.0 out of 5 stars</td>\n",
              "      <td>When i was testing my device for any display...</td>\n",
              "    </tr>\n",
              "    <tr>\n",
              "      <th>7</th>\n",
              "      <td>Divakar</td>\n",
              "      <td>First Review of 256GB Variant India. No displa...</td>\n",
              "      <td>Reviewed in India on 17 June 2020</td>\n",
              "      <td>3.0 out of 5 stars</td>\n",
              "      <td>There are issues with the display. The updat...</td>\n",
              "    </tr>\n",
              "    <tr>\n",
              "      <th>8</th>\n",
              "      <td>Robin Sahni</td>\n",
              "      <td>Screen issues,Heating issues,Bad front camera</td>\n",
              "      <td>Reviewed in India on 26 June 2020</td>\n",
              "      <td>1.0 out of 5 stars</td>\n",
              "      <td>My oneplus 8 pro has this screen uniformity ...</td>\n",
              "    </tr>\n",
              "    <tr>\n",
              "      <th>9</th>\n",
              "      <td>Panindra koripalli</td>\n",
              "      <td>Major know issue</td>\n",
              "      <td>Reviewed in India on 27 June 2020</td>\n",
              "      <td>1.0 out of 5 stars</td>\n",
              "      <td>Mobile display received defective, display g...</td>\n",
              "    </tr>\n",
              "  </tbody>\n",
              "</table>\n",
              "</div>"
            ],
            "text/plain": [
              "        Customer Name  ...                                             Review\n",
              "0       Kishore Kumar  ...    The phone has a dark band on the status bar....\n",
              "1                  NA  ...       I am facing display issues in low brightness\n",
              "2         tarun Singh  ...    i am using this phone just a day..but there ...\n",
              "3       Arindam Singh  ...    I bought this 12GB+256GB Glacial Green varia...\n",
              "4          Aman Singh  ...    I bought the phone during the first sale on ...\n",
              "5   MEENAKSHI Goswami  ...    Superb phone but little long and curves shou...\n",
              "6          Dhanush KT  ...    When i was testing my device for any display...\n",
              "7             Divakar  ...    There are issues with the display. The updat...\n",
              "8         Robin Sahni  ...    My oneplus 8 pro has this screen uniformity ...\n",
              "9  Panindra koripalli  ...    Mobile display received defective, display g...\n",
              "\n",
              "[10 rows x 5 columns]"
            ]
          },
          "metadata": {
            "tags": []
          },
          "execution_count": 34
        }
      ]
    },
    {
      "cell_type": "code",
      "metadata": {
        "id": "LI6zluXVhCcW"
      },
      "source": [
        "df.to_csv('reviews.csv')"
      ],
      "execution_count": null,
      "outputs": []
    },
    {
      "cell_type": "code",
      "metadata": {
        "id": "gRfjYVklhW6Z"
      },
      "source": [
        "## Assignment go to flipkart and select any product and scrap the reviews of it!"
      ],
      "execution_count": null,
      "outputs": []
    },
    {
      "cell_type": "code",
      "metadata": {
        "id": "nCvKWDjkkh4C"
      },
      "source": [
        "## umang20072007@gmail.com EMAIL"
      ],
      "execution_count": null,
      "outputs": []
    },
    {
      "cell_type": "markdown",
      "metadata": {
        "id": "8QTNgwF4kbhI"
      },
      "source": [
        "# ***THE END***"
      ]
    }
  ]
}